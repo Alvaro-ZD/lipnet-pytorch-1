{
 "cells": [
  {
   "cell_type": "code",
   "execution_count": 1,
   "metadata": {},
   "outputs": [],
   "source": [
    "import os"
   ]
  },
  {
   "cell_type": "code",
   "execution_count": 9,
   "metadata": {},
   "outputs": [],
   "source": [
    "os.getcwd()"
   ]
  },
  {
   "cell_type": "code",
   "execution_count": 4,
   "metadata": {},
   "outputs": [
    {
     "name": "stdout",
     "output_type": "stream",
     "text": [
      "lay gren blue\n"
     ]
    }
   ],
   "source": [
    "import itertools\n",
    "\n",
    "def simple_ctc_decode(input_string):\n",
    "    # Split the string to process each word separately\n",
    "    words = input_string.split()\n",
    "    decoded_words = []\n",
    "\n",
    "    for word in words:\n",
    "        # Collapse repeated characters in each word.\n",
    "        collapsed_word = ''.join(char for char, _ in itertools.groupby(word))\n",
    "        decoded_words.append(collapsed_word)\n",
    "\n",
    "    # Rejoin the decoded words into a single string.\n",
    "    decoded_string = ' '.join(decoded_words)\n",
    "    return decoded_string\n",
    "\n",
    "input_string = \"llllllaaaayyyyy ggggrrreeeeennnnnnnn bbblllluee\"\n",
    "output_string = simple_ctc_decode(input_string)\n",
    "print(output_string)  # \"lay green blue\""
   ]
  },
  {
   "cell_type": "code",
   "execution_count": null,
   "metadata": {},
   "outputs": [],
   "source": []
  }
 ],
 "metadata": {
  "kernelspec": {
   "display_name": "myenv",
   "language": "python",
   "name": "python3"
  },
  "language_info": {
   "codemirror_mode": {
    "name": "ipython",
    "version": 3
   },
   "file_extension": ".py",
   "mimetype": "text/x-python",
   "name": "python",
   "nbconvert_exporter": "python",
   "pygments_lexer": "ipython3",
   "version": "3.10.12"
  }
 },
 "nbformat": 4,
 "nbformat_minor": 2
}
